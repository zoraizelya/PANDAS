{
 "cells": [
  {
   "cell_type": "code",
   "execution_count": null,
   "metadata": {},
   "outputs": [],
   "source": [
    "# Python - Using pandas "
   ]
  },
  {
   "cell_type": "code",
   "execution_count": null,
   "metadata": {},
   "outputs": [],
   "source": [
    "import pandas as pd\n",
    "import numpy as np"
   ]
  },
  {
   "cell_type": "code",
   "execution_count": null,
   "metadata": {},
   "outputs": [],
   "source": [
    "# Object Creation \n",
    "s = pd.Series([1,2,3,np.nan,4,5])\n",
    "s"
   ]
  },
  {
   "cell_type": "code",
   "execution_count": null,
   "metadata": {},
   "outputs": [],
   "source": [
    "dates = pd.date_range(\"20220722\", periods=31)\n",
    "dates\n",
    "df = pd.DataFrame(np.random.randn(31,4), index=dates,columns=list(\"ABCD\"))\n",
    "df.head()"
   ]
  },
  {
   "cell_type": "code",
   "execution_count": null,
   "metadata": {},
   "outputs": [],
   "source": [
    "df.to_numpy()"
   ]
  },
  {
   "cell_type": "code",
   "execution_count": null,
   "metadata": {},
   "outputs": [],
   "source": [
    "df.describe"
   ]
  },
  {
   "cell_type": "code",
   "execution_count": null,
   "metadata": {},
   "outputs": [],
   "source": [
    "df.T # to transpose data means rows to columns"
   ]
  },
  {
   "cell_type": "code",
   "execution_count": null,
   "metadata": {},
   "outputs": [],
   "source": [
    "df.sort_index(axis=1,ascending=True)"
   ]
  },
  {
   "cell_type": "code",
   "execution_count": null,
   "metadata": {},
   "outputs": [],
   "source": [
    "df.sort_values(by=\"B\",ascending=True)"
   ]
  },
  {
   "cell_type": "code",
   "execution_count": null,
   "metadata": {},
   "outputs": [],
   "source": [
    "df[\"A\"]"
   ]
  },
  {
   "cell_type": "code",
   "execution_count": null,
   "metadata": {},
   "outputs": [],
   "source": [
    "df[0:2]"
   ]
  },
  {
   "cell_type": "code",
   "execution_count": null,
   "metadata": {},
   "outputs": [],
   "source": [
    "df[1:2] # row wise selection "
   ]
  },
  {
   "cell_type": "code",
   "execution_count": null,
   "metadata": {},
   "outputs": [],
   "source": [
    "df.loc[dates[0]] # 0 mean is index data at index[0]"
   ]
  },
  {
   "cell_type": "code",
   "execution_count": null,
   "metadata": {},
   "outputs": [],
   "source": [
    "df.loc[:,[\"A\",\"B\"]]"
   ]
  },
  {
   "cell_type": "code",
   "execution_count": null,
   "metadata": {},
   "outputs": [],
   "source": [
    "df.loc[\"20220724\":\"20220728\",[\"A\",\"C\"]]"
   ]
  },
  {
   "cell_type": "code",
   "execution_count": null,
   "metadata": {},
   "outputs": [],
   "source": [
    "df.loc[\"20220724\",[\"A\",\"B\",\"C\"]]"
   ]
  },
  {
   "cell_type": "code",
   "execution_count": null,
   "metadata": {},
   "outputs": [],
   "source": [
    "df.at[dates[0],\"B\"]"
   ]
  },
  {
   "cell_type": "code",
   "execution_count": null,
   "metadata": {},
   "outputs": [],
   "source": [
    "df.iloc[2]"
   ]
  },
  {
   "cell_type": "code",
   "execution_count": null,
   "metadata": {},
   "outputs": [],
   "source": [
    "df.iloc[3:6] # index[3] to  index[6]"
   ]
  },
  {
   "cell_type": "code",
   "execution_count": null,
   "metadata": {},
   "outputs": [],
   "source": [
    "df.iloc[3:6,0:3] # 3:6 rows  , 0:3 columns"
   ]
  },
  {
   "cell_type": "code",
   "execution_count": null,
   "metadata": {},
   "outputs": [],
   "source": [
    "df[df[\"A\"]>1]"
   ]
  },
  {
   "cell_type": "code",
   "execution_count": null,
   "metadata": {},
   "outputs": [],
   "source": [
    "df[df[\"B\"]<0]"
   ]
  },
  {
   "cell_type": "code",
   "execution_count": null,
   "metadata": {},
   "outputs": [],
   "source": [
    "df2[\"E\"]=[\"one\",\"two\",\"three\",\"one\",\"two\",\"three\",\"one\",\"two\",\"three\",\"one\",\"two\",\"three\",\"one\",\"two\",\"three\",\"one\",\"two\",\"three\",\"one\",\"two\",\"three\",\"one\",\"two\",\"three\",\"one\",\"two\",\"three\",\"one\",\"two\",\"three\",\"four\"]\n",
    "df2.head()"
   ]
  },
  {
   "cell_type": "code",
   "execution_count": null,
   "metadata": {},
   "outputs": [],
   "source": [
    "df2 [\"mean\"]=[1,2,3,4,5,6,7,8,9,10,1,2,3,4,5,6,7,8,9,10,1,2,3,4,5,6,7,8,9,10,11]\n",
    "df2.head()"
   ]
  },
  {
   "cell_type": "code",
   "execution_count": null,
   "metadata": {},
   "outputs": [],
   "source": [
    "df2 = df2.iloc[:,0:3]\n",
    "df2.head()"
   ]
  },
  {
   "cell_type": "code",
   "execution_count": 93,
   "metadata": {},
   "outputs": [
    {
     "data": {
      "text/html": [
       "<div>\n",
       "<style scoped>\n",
       "    .dataframe tbody tr th:only-of-type {\n",
       "        vertical-align: middle;\n",
       "    }\n",
       "\n",
       "    .dataframe tbody tr th {\n",
       "        vertical-align: top;\n",
       "    }\n",
       "\n",
       "    .dataframe thead th {\n",
       "        text-align: right;\n",
       "    }\n",
       "</style>\n",
       "<table border=\"1\" class=\"dataframe\">\n",
       "  <thead>\n",
       "    <tr style=\"text-align: right;\">\n",
       "      <th></th>\n",
       "      <th>A</th>\n",
       "      <th>B</th>\n",
       "      <th>C</th>\n",
       "      <th>D</th>\n",
       "      <th>E</th>\n",
       "      <th>F</th>\n",
       "    </tr>\n",
       "  </thead>\n",
       "  <tbody>\n",
       "    <tr>\n",
       "      <th>2022-01-01</th>\n",
       "      <td>-0.723247</td>\n",
       "      <td>-0.589688</td>\n",
       "      <td>1.928546</td>\n",
       "      <td>1.968316</td>\n",
       "      <td>-0.375857</td>\n",
       "      <td>1st</td>\n",
       "    </tr>\n",
       "    <tr>\n",
       "      <th>2022-01-02</th>\n",
       "      <td>0.619235</td>\n",
       "      <td>1.531585</td>\n",
       "      <td>-3.371063</td>\n",
       "      <td>1.191806</td>\n",
       "      <td>0.273162</td>\n",
       "      <td>2nd</td>\n",
       "    </tr>\n",
       "    <tr>\n",
       "      <th>2022-01-03</th>\n",
       "      <td>1.233894</td>\n",
       "      <td>0.106274</td>\n",
       "      <td>-1.519729</td>\n",
       "      <td>-1.056330</td>\n",
       "      <td>0.925699</td>\n",
       "      <td>3rd</td>\n",
       "    </tr>\n",
       "    <tr>\n",
       "      <th>2022-01-04</th>\n",
       "      <td>0.811708</td>\n",
       "      <td>-0.780748</td>\n",
       "      <td>-0.915184</td>\n",
       "      <td>-0.745135</td>\n",
       "      <td>-0.619559</td>\n",
       "      <td>4th</td>\n",
       "    </tr>\n",
       "    <tr>\n",
       "      <th>2022-01-05</th>\n",
       "      <td>1.306716</td>\n",
       "      <td>-1.035915</td>\n",
       "      <td>-0.223066</td>\n",
       "      <td>1.377063</td>\n",
       "      <td>-0.684232</td>\n",
       "      <td>5th</td>\n",
       "    </tr>\n",
       "    <tr>\n",
       "      <th>2022-01-06</th>\n",
       "      <td>-1.232419</td>\n",
       "      <td>0.091828</td>\n",
       "      <td>2.546359</td>\n",
       "      <td>0.142057</td>\n",
       "      <td>-0.088073</td>\n",
       "      <td>6th</td>\n",
       "    </tr>\n",
       "    <tr>\n",
       "      <th>2022-01-07</th>\n",
       "      <td>1.225564</td>\n",
       "      <td>-0.633990</td>\n",
       "      <td>1.154576</td>\n",
       "      <td>0.252692</td>\n",
       "      <td>-0.330111</td>\n",
       "      <td>7th</td>\n",
       "    </tr>\n",
       "    <tr>\n",
       "      <th>2022-01-08</th>\n",
       "      <td>-1.196297</td>\n",
       "      <td>1.600115</td>\n",
       "      <td>-0.482394</td>\n",
       "      <td>0.612339</td>\n",
       "      <td>-0.653157</td>\n",
       "      <td>8th</td>\n",
       "    </tr>\n",
       "    <tr>\n",
       "      <th>2022-01-09</th>\n",
       "      <td>-0.611846</td>\n",
       "      <td>0.640425</td>\n",
       "      <td>-0.821358</td>\n",
       "      <td>-0.456675</td>\n",
       "      <td>-0.106759</td>\n",
       "      <td>9th</td>\n",
       "    </tr>\n",
       "    <tr>\n",
       "      <th>2022-01-10</th>\n",
       "      <td>-1.728579</td>\n",
       "      <td>0.057070</td>\n",
       "      <td>0.812557</td>\n",
       "      <td>1.330002</td>\n",
       "      <td>0.425536</td>\n",
       "      <td>10th</td>\n",
       "    </tr>\n",
       "  </tbody>\n",
       "</table>\n",
       "</div>"
      ],
      "text/plain": [
       "                   A         B         C         D         E     F\n",
       "2022-01-01 -0.723247 -0.589688  1.928546  1.968316 -0.375857   1st\n",
       "2022-01-02  0.619235  1.531585 -3.371063  1.191806  0.273162   2nd\n",
       "2022-01-03  1.233894  0.106274 -1.519729 -1.056330  0.925699   3rd\n",
       "2022-01-04  0.811708 -0.780748 -0.915184 -0.745135 -0.619559   4th\n",
       "2022-01-05  1.306716 -1.035915 -0.223066  1.377063 -0.684232   5th\n",
       "2022-01-06 -1.232419  0.091828  2.546359  0.142057 -0.088073   6th\n",
       "2022-01-07  1.225564 -0.633990  1.154576  0.252692 -0.330111   7th\n",
       "2022-01-08 -1.196297  1.600115 -0.482394  0.612339 -0.653157   8th\n",
       "2022-01-09 -0.611846  0.640425 -0.821358 -0.456675 -0.106759   9th\n",
       "2022-01-10 -1.728579  0.057070  0.812557  1.330002  0.425536  10th"
      ]
     },
     "execution_count": 93,
     "metadata": {},
     "output_type": "execute_result"
    }
   ],
   "source": [
    "# own practice \n",
    "# libraries are imported at the head not need to import again\n",
    "\n",
    "session = pd.date_range(\"20220101\",periods=10)\n",
    "z = pd.DataFrame(np.random.randn(10,5), index=session,columns=list(\"ABCDE\"))\n",
    "z.loc[\"20220102\",[\"A\",\"B\"]]\n",
    "z.iloc[0:2,:]\n",
    "z.at[session[2],\"E\"]\n",
    "z[\"F\"]=[\"1st\",\"2nd\",\"3rd\",\"4th\",\"5th\",\"6th\",\"7th\",\"8th\",\"9th\",\"10th\"]\n",
    "z.iloc[:,:]"
   ]
  }
 ],
 "metadata": {
  "kernelspec": {
   "display_name": "Python 3.9.12 ('base')",
   "language": "python",
   "name": "python3"
  },
  "language_info": {
   "codemirror_mode": {
    "name": "ipython",
    "version": 3
   },
   "file_extension": ".py",
   "mimetype": "text/x-python",
   "name": "python",
   "nbconvert_exporter": "python",
   "pygments_lexer": "ipython3",
   "version": "3.9.12"
  },
  "orig_nbformat": 4,
  "vscode": {
   "interpreter": {
    "hash": "82562eb878bcefd2fd15bcda8c3b10eaf3bf88b98385813bd427c32a0683d436"
   }
  }
 },
 "nbformat": 4,
 "nbformat_minor": 2
}
